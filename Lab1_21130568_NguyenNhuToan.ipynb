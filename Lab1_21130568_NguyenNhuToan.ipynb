{
  "nbformat": 4,
  "nbformat_minor": 0,
  "metadata": {
    "colab": {
      "provenance": [],
      "toc_visible": true,
      "authorship_tag": "ABX9TyNbhnehiN8F/DbpknzAzwX0",
      "include_colab_link": true
    },
    "kernelspec": {
      "name": "python3",
      "display_name": "Python 3"
    },
    "language_info": {
      "name": "python"
    }
  },
  "cells": [
    {
      "cell_type": "markdown",
      "metadata": {
        "id": "view-in-github",
        "colab_type": "text"
      },
      "source": [
        "<a href=\"https://colab.research.google.com/github/toan722003/Machine_Learning/blob/master/Lab1_21130568_NguyenNhuToan.ipynb\" target=\"_parent\"><img src=\"https://colab.research.google.com/assets/colab-badge.svg\" alt=\"Open In Colab\"/></a>"
      ]
    },
    {
      "cell_type": "markdown",
      "source": [
        "**Task 1. Python Programming**"
      ],
      "metadata": {
        "id": "OuoCwuKzQOVD"
      }
    },
    {
      "cell_type": "code",
      "source": [
        "import numpy as np"
      ],
      "metadata": {
        "id": "CCrJBGAYCDT_"
      },
      "execution_count": 61,
      "outputs": []
    },
    {
      "cell_type": "code",
      "execution_count": null,
      "metadata": {
        "colab": {
          "base_uri": "https://localhost:8080/"
        },
        "id": "XdCIo2zE2_Ga",
        "outputId": "103a25f9-380d-491a-b6d2-e07643e2c9e7"
      },
      "outputs": [
        {
          "name": "stdout",
          "output_type": "stream",
          "text": [
            "Input your number: 12\n"
          ]
        }
      ],
      "source": [
        "# Task 1.1\n",
        "# Input an integer number n\n",
        "n = input(\"Input your number: \")"
      ]
    },
    {
      "cell_type": "code",
      "source": [
        "# Task 1.1\n",
        "# Input n integer numbers x1, x2,..., xn and append them into a list L.\n",
        "L = []\n",
        "i = 0\n",
        "while i < 10:\n",
        "  n = input(\"Input your number: \")\n",
        "  L.append(int(n))\n",
        "  i += 1\n",
        "print(L)"
      ],
      "metadata": {
        "colab": {
          "base_uri": "https://localhost:8080/"
        },
        "id": "2ulolPLB_JvA",
        "outputId": "bfa6c4ad-dd5c-4602-c8d2-9db21b44acd7"
      },
      "execution_count": null,
      "outputs": [
        {
          "output_type": "stream",
          "name": "stdout",
          "text": [
            "Input your number: 12\n",
            "Input your number: -5\n",
            "Input your number: 48\n",
            "Input your number: -9\n",
            "Input your number: 89\n",
            "Input your number: -56\n",
            "Input your number: 42\n",
            "Input your number: 53\n",
            "Input your number: -7\n",
            "Input your number: -32\n",
            "[12, -5, 48, -9, 89, -56, 42, 53, -7, -32]\n"
          ]
        }
      ]
    },
    {
      "cell_type": "code",
      "source": [
        "# Task 1.1\n",
        "# Compute the sum of elements in L\n",
        "print(f\"{np.sum(L)}\")"
      ],
      "metadata": {
        "colab": {
          "base_uri": "https://localhost:8080/"
        },
        "id": "NDOrgGX5AE-K",
        "outputId": "05c7fbcb-9516-422f-d354-e9044dce4b8e"
      },
      "execution_count": null,
      "outputs": [
        {
          "output_type": "stream",
          "name": "stdout",
          "text": [
            "135\n"
          ]
        }
      ]
    },
    {
      "cell_type": "code",
      "source": [
        "# from posixpath import lexistsreg\n",
        "# Task 1.1\n",
        "# Sort the list L in ascending order\n",
        "print(f\"{np.sort(L)}\")"
      ],
      "metadata": {
        "colab": {
          "base_uri": "https://localhost:8080/"
        },
        "id": "UaSMxT9hBOEg",
        "outputId": "dc47b512-2ea7-4b76-e2a0-45d03da9791e"
      },
      "execution_count": null,
      "outputs": [
        {
          "output_type": "stream",
          "name": "stdout",
          "text": [
            "[-56 -32  -9  -7  -5  12  42  48  53  89]\n"
          ]
        }
      ]
    },
    {
      "cell_type": "code",
      "source": [
        "# Task1.1\n",
        "# Show how many positive and negative numbers are in the list L.\n",
        "positive = 0\n",
        "negative = 0\n",
        "for i in L:\n",
        "  if i < 0:\n",
        "    negative +=1\n",
        "  else:\n",
        "    positive +=1\n",
        "print(f\"Positive: {positive}\")\n",
        "print(f\"Negative: {negative}\")"
      ],
      "metadata": {
        "colab": {
          "base_uri": "https://localhost:8080/"
        },
        "id": "zWpbB58fEER3",
        "outputId": "c6ae0607-4dc2-4cce-858e-f6f9e0be95d4"
      },
      "execution_count": null,
      "outputs": [
        {
          "output_type": "stream",
          "name": "stdout",
          "text": [
            "Positive: 5\n",
            "Negative: 5\n"
          ]
        }
      ]
    },
    {
      "cell_type": "code",
      "source": [
        "# Task 1.2\n",
        "# Implement a Python function to compute S(n) as follows:\n",
        "# S(n)=1+1.2+1.2.3+…+1.2.3…n, n>0\n",
        "sum = 0\n",
        "def sumN(n):\n",
        "    if(n <= 0):\n",
        "       return sum\n",
        "    tich = 1\n",
        "    for i in range(n):\n",
        "      tich = tich * (i+1)\n",
        "    n -= 1\n",
        "    return sum + tich + sumN(n)\n",
        "print(f\"Sum is: {sumN(5)}\")"
      ],
      "metadata": {
        "colab": {
          "base_uri": "https://localhost:8080/"
        },
        "id": "OvVigZI6GOEg",
        "outputId": "5cf46b32-f997-4d8b-f487-5be371336763"
      },
      "execution_count": null,
      "outputs": [
        {
          "output_type": "stream",
          "name": "stdout",
          "text": [
            "Sum is: 153\n"
          ]
        }
      ]
    },
    {
      "cell_type": "code",
      "source": [
        "# Task 1.3\n",
        "class Post:\n",
        "  def __init__(self,content,subject,likes):\n",
        "    self.__content = content\n",
        "    self.__subject = subject\n",
        "    self.__likes = likes\n",
        "\n",
        "  def get_content(self):\n",
        "    return self.__content\n",
        "\n",
        "  def get_subject(self):\n",
        "    return self.__subject\n",
        "\n",
        "  def get_likes(self):\n",
        "    return self.__likes"
      ],
      "metadata": {
        "id": "tWXP0kPH4bdX"
      },
      "execution_count": 7,
      "outputs": []
    },
    {
      "cell_type": "code",
      "source": [
        "class Account:\n",
        "  def __init__(self,name,email,country):\n",
        "    self.__name = name\n",
        "    self.__email = email\n",
        "    self.__country = country\n",
        "    self.__friends = list()\n",
        "    self.__posts = list()\n",
        "\n",
        "  def get_name(self):\n",
        "    return self.__name\n",
        "\n",
        "  def get_email(self):\n",
        "    return self.__email\n",
        "\n",
        "  def get_country(self):\n",
        "    return self.__country\n",
        "\n",
        "  def add_friend(self,friend):\n",
        "    self.__friends.append(friend)\n",
        "\n",
        "  def add_post(self,post):\n",
        "    self.__posts.append(post)\n",
        "\n",
        "  def get_posts(self):\n",
        "    return self.__posts\n",
        "\n",
        "  def getMaxLikePostByFriend(self):\n",
        "    max = 0\n",
        "    account = self\n",
        "    for acc in self.__friends:\n",
        "      if(len(acc.__posts) > 0):\n",
        "        for post in acc.__posts:\n",
        "          if(post.get_likes() > max):\n",
        "             account = acc\n",
        "    return account\n",
        "\n",
        "  def __str__(self):\n",
        "    return f\"Name: {self.__name},Email: {self.__email},Country: {self.__country}\""
      ],
      "metadata": {
        "id": "MK18_GRh8vU9"
      },
      "execution_count": 30,
      "outputs": []
    },
    {
      "cell_type": "code",
      "source": [
        "class AccountManager:\n",
        "  def __init__(self):\n",
        "    self.__accounts = list()\n",
        "\n",
        "  def add_account(self,account):\n",
        "    self.__accounts.append(account)\n",
        "\n",
        "  def groupAccountsByPostLike(self):\n",
        "    trueMap = dict(true = list(),false = list())\n",
        "    for account in self.__accounts:\n",
        "      if(len(account.get_posts()) > 10):\n",
        "        trueMap[\"true\"].append(account)\n",
        "      else:\n",
        "        trueMap[\"false\"].append(account)\n",
        "    return trueMap\n",
        "\n",
        "  def filterAccounts(self,country):\n",
        "    setAccount = filter(lambda acc: acc.get_country == country,self.__accounts)\n",
        "    return setAccount"
      ],
      "metadata": {
        "id": "hXU5Z4_jBY8J"
      },
      "execution_count": 55,
      "outputs": []
    },
    {
      "cell_type": "code",
      "source": [
        "# Test\n",
        "post1 = Post(\"1\",\"A\",10)\n",
        "post2 = Post(\"2\",\"B\",4)\n",
        "post3 = Post(\"3\",\"C\",108)\n",
        "post4 = Post(\"4\",\"E\",109)\n",
        "post5 = Post(\"5\",\"F\",3)\n",
        "post6 = Post(\"6\",\"F\",1)\n",
        "post7 = Post(\"7\",\"G\",0)\n",
        "post8 = Post(\"8\",\"H\",107)\n",
        "\n",
        "acc1 = Account(\"NNT\",\"abc@gmail.com\",\"Vn\")\n",
        "acc2 = Account(\"NNB\",\"abcde@gmail.com\",\"Vn\")\n",
        "acc3 = Account(\"NTTA\",\"abcdef@gmail.com\",\"Vn\")\n",
        "acc1.add_post(post1)\n",
        "acc1.add_post(post2)\n",
        "acc2.add_post(post5)\n",
        "acc2.add_post(post8)\n",
        "acc2.add_post(post4)\n",
        "acc3.add_post(post3)\n",
        "acc3.add_post(post6)\n",
        "acc3.add_post(post7)\n",
        "\n",
        "acc1.add_friend(acc2)\n",
        "acc1.add_friend(acc3)\n",
        "\n",
        "accManage = AccountManager()\n",
        "accManage.add_account(acc1)\n",
        "accManage.add_account(acc2)\n",
        "accManage.add_account(acc3)"
      ],
      "metadata": {
        "id": "czFdBeOzKFuj"
      },
      "execution_count": 52,
      "outputs": []
    },
    {
      "cell_type": "code",
      "source": [
        "accTest1 = acc1.getMaxLikePostByFriend()\n",
        "print(accTest1)"
      ],
      "metadata": {
        "colab": {
          "base_uri": "https://localhost:8080/",
          "height": 0
        },
        "id": "lJbLYMW6TdLj",
        "outputId": "56843b15-071c-4a56-ceb2-0824c8c70d54"
      },
      "execution_count": 43,
      "outputs": [
        {
          "output_type": "stream",
          "name": "stdout",
          "text": [
            "Name: NTTA,Email: abcdef@gmail.com,Country: Vn\n"
          ]
        }
      ]
    },
    {
      "cell_type": "code",
      "source": [
        "mapAcc = accManage.groupAccountsByPostLike()\n",
        "\n",
        "for key,value in mapAcc.items():\n",
        "  print(key)\n",
        "  if(len(value) == 0):\n",
        "    print(\"Rỗng\")\n",
        "  else:\n",
        "    for v in value:\n",
        "      print(v)"
      ],
      "metadata": {
        "colab": {
          "base_uri": "https://localhost:8080/",
          "height": 0
        },
        "id": "-vEsLPdFVbJP",
        "outputId": "c0534fab-1510-4779-b4d8-5f702d68aae7"
      },
      "execution_count": 49,
      "outputs": [
        {
          "output_type": "stream",
          "name": "stdout",
          "text": [
            "true\n",
            "Rỗng\n",
            "false\n",
            "Name: NNT,Email: abc@gmail.com,Country: Vn\n",
            "Name: NNB,Email: abcde@gmail.com,Country: Vn\n",
            "Name: NTTA,Email: abcdef@gmail.com,Country: Vn\n"
          ]
        }
      ]
    },
    {
      "cell_type": "code",
      "source": [
        "setAcc = accManage.filterAccounts(\"Vnn\")\n",
        "print(setAcc)\n",
        "setAcc = accManage.filterAccounts(\"Vn\")\n",
        "print(setAcc)"
      ],
      "metadata": {
        "colab": {
          "base_uri": "https://localhost:8080/",
          "height": 0
        },
        "id": "HkunhZhLYnlY",
        "outputId": "ad5a0d57-78db-41f2-ac3a-708dc36ca7e3"
      },
      "execution_count": 58,
      "outputs": [
        {
          "output_type": "stream",
          "name": "stdout",
          "text": [
            "set()\n",
            "set()\n"
          ]
        }
      ]
    },
    {
      "cell_type": "markdown",
      "source": [
        "**Task 2. NumPy**"
      ],
      "metadata": {
        "id": "vAxwgNUcQdKc"
      }
    },
    {
      "cell_type": "code",
      "source": [
        "# Task 2.1\n",
        "def createNumber(start,end):\n",
        "  array = np.arange(start,end,1)\n",
        "  print(array)\n",
        "  print(np.sort(array)[::-1])\n",
        "createNumber(10,25)"
      ],
      "metadata": {
        "colab": {
          "base_uri": "https://localhost:8080/",
          "height": 0
        },
        "id": "yn12d3HpZ50s",
        "outputId": "acb51a60-56b6-4d3a-d296-13c2e6b19e42"
      },
      "execution_count": 63,
      "outputs": [
        {
          "output_type": "stream",
          "name": "stdout",
          "text": [
            "[10 11 12 13 14 15 16 17 18 19 20 21 22 23 24]\n",
            "[24 23 22 21 20 19 18 17 16 15 14 13 12 11 10]\n"
          ]
        }
      ]
    },
    {
      "cell_type": "code",
      "source": [
        "# Task 2.2\n",
        "origin_array = [1, 2, 3, 4]\n",
        "repeat_array = []\n",
        "for i in range(4):\n",
        "  repeat_array.append(origin_array.copy())\n",
        "print(repeat_array)\n"
      ],
      "metadata": {
        "colab": {
          "base_uri": "https://localhost:8080/",
          "height": 0
        },
        "id": "kSPfjeBTcKba",
        "outputId": "1ad4b5a1-16a4-4d90-c3d4-644ae0c240a5"
      },
      "execution_count": 72,
      "outputs": [
        {
          "output_type": "stream",
          "name": "stdout",
          "text": [
            "[[1, 2, 3, 4], [1, 2, 3, 4], [1, 2, 3, 4], [1, 2, 3, 4]]\n"
          ]
        }
      ]
    },
    {
      "cell_type": "code",
      "source": [
        "# Task 2.3\n",
        "def changeArrayByNumberSpecifice(num):\n",
        "  arr = [[ 0.42, 0.48, 0.32],[ 0.74 ,0.58, 0.38],[ 0.51, 0.34, 0.15 ]]\n",
        "  og_array = np.array(arr)\n",
        "  for i in range(len(og_array)):\n",
        "    for j in range(len(og_array[i])):\n",
        "      if(og_array[i,j] > 0.5):\n",
        "        og_array[i,j] = num\n",
        "  return og_array\n",
        "  # print(og_array[0,0])\n",
        "print(changeArrayByNumberSpecifice(0.5))\n"
      ],
      "metadata": {
        "colab": {
          "base_uri": "https://localhost:8080/",
          "height": 0
        },
        "id": "mJzO6v6BkcFW",
        "outputId": "b1e7f3c3-e3c5-4035-b36d-dbdcbcebe3b6"
      },
      "execution_count": 81,
      "outputs": [
        {
          "output_type": "stream",
          "name": "stdout",
          "text": [
            "[[0.42 0.48 0.32]\n",
            " [0.5  0.5  0.38]\n",
            " [0.5  0.34 0.15]]\n"
          ]
        }
      ]
    }
  ]
}
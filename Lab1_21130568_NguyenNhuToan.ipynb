{
  "nbformat": 4,
  "nbformat_minor": 0,
  "metadata": {
    "colab": {
      "provenance": [],
      "authorship_tag": "ABX9TyMvJrTA+E0jr9CIbs7ByOGT",
      "include_colab_link": true
    },
    "kernelspec": {
      "name": "python3",
      "display_name": "Python 3"
    },
    "language_info": {
      "name": "python"
    }
  },
  "cells": [
    {
      "cell_type": "markdown",
      "metadata": {
        "id": "view-in-github",
        "colab_type": "text"
      },
      "source": [
        "<a href=\"https://colab.research.google.com/github/toan722003/Machine_Learning/blob/master/Lab1_21130568_NguyenNhuToan.ipynb\" target=\"_parent\"><img src=\"https://colab.research.google.com/assets/colab-badge.svg\" alt=\"Open In Colab\"/></a>"
      ]
    },
    {
      "cell_type": "code",
      "source": [
        "import numpy as np"
      ],
      "metadata": {
        "id": "CCrJBGAYCDT_"
      },
      "execution_count": null,
      "outputs": []
    },
    {
      "cell_type": "code",
      "execution_count": 38,
      "metadata": {
        "colab": {
          "base_uri": "https://localhost:8080/"
        },
        "id": "XdCIo2zE2_Ga",
        "outputId": "103a25f9-380d-491a-b6d2-e07643e2c9e7"
      },
      "outputs": [
        {
          "name": "stdout",
          "output_type": "stream",
          "text": [
            "Input your number: 12\n"
          ]
        }
      ],
      "source": [
        "# Task 1.1\n",
        "# Input an integer number n\n",
        "n = input(\"Input your number: \")"
      ]
    },
    {
      "cell_type": "code",
      "source": [
        "# Task 1.1\n",
        "# Input n integer numbers x1, x2,..., xn and append them into a list L.\n",
        "L = []\n",
        "i = 0\n",
        "while i < 10:\n",
        "  n = input(\"Input your number: \")\n",
        "  L.append(int(n))\n",
        "  i += 1\n",
        "print(L)"
      ],
      "metadata": {
        "colab": {
          "base_uri": "https://localhost:8080/"
        },
        "id": "2ulolPLB_JvA",
        "outputId": "bfa6c4ad-dd5c-4602-c8d2-9db21b44acd7"
      },
      "execution_count": 44,
      "outputs": [
        {
          "output_type": "stream",
          "name": "stdout",
          "text": [
            "Input your number: 12\n",
            "Input your number: -5\n",
            "Input your number: 48\n",
            "Input your number: -9\n",
            "Input your number: 89\n",
            "Input your number: -56\n",
            "Input your number: 42\n",
            "Input your number: 53\n",
            "Input your number: -7\n",
            "Input your number: -32\n",
            "[12, -5, 48, -9, 89, -56, 42, 53, -7, -32]\n"
          ]
        }
      ]
    },
    {
      "cell_type": "code",
      "source": [
        "# Task 1.1\n",
        "# Compute the sum of elements in L\n",
        "print(f\"{np.sum(L)}\")"
      ],
      "metadata": {
        "colab": {
          "base_uri": "https://localhost:8080/"
        },
        "id": "NDOrgGX5AE-K",
        "outputId": "05c7fbcb-9516-422f-d354-e9044dce4b8e"
      },
      "execution_count": 45,
      "outputs": [
        {
          "output_type": "stream",
          "name": "stdout",
          "text": [
            "135\n"
          ]
        }
      ]
    },
    {
      "cell_type": "code",
      "source": [
        "# from posixpath import lexistsreg\n",
        "# Task 1.1\n",
        "# Sort the list L in ascending order\n",
        "print(f\"{np.sort(L)}\")"
      ],
      "metadata": {
        "colab": {
          "base_uri": "https://localhost:8080/"
        },
        "id": "UaSMxT9hBOEg",
        "outputId": "dc47b512-2ea7-4b76-e2a0-45d03da9791e"
      },
      "execution_count": 46,
      "outputs": [
        {
          "output_type": "stream",
          "name": "stdout",
          "text": [
            "[-56 -32  -9  -7  -5  12  42  48  53  89]\n"
          ]
        }
      ]
    },
    {
      "cell_type": "code",
      "source": [
        "# Task1.1\n",
        "# Show how many positive and negative numbers are in the list L.\n",
        "positive = 0\n",
        "negative = 0\n",
        "for i in L:\n",
        "  if i < 0:\n",
        "    negative +=1\n",
        "  else:\n",
        "    positive +=1\n",
        "print(f\"Positive: {positive}\")\n",
        "print(f\"Negative: {negative}\")"
      ],
      "metadata": {
        "colab": {
          "base_uri": "https://localhost:8080/"
        },
        "id": "zWpbB58fEER3",
        "outputId": "c6ae0607-4dc2-4cce-858e-f6f9e0be95d4"
      },
      "execution_count": 47,
      "outputs": [
        {
          "output_type": "stream",
          "name": "stdout",
          "text": [
            "Positive: 5\n",
            "Negative: 5\n"
          ]
        }
      ]
    },
    {
      "cell_type": "code",
      "source": [
        "# Task 1.2\n",
        "# Implement a Python function to compute S(n) as follows:\n",
        "# S(n)=1+1.2+1.2.3+…+1.2.3…n, n>0\n",
        "sum = 0\n",
        "def sumN(n):\n",
        "    if(n <= 0):\n",
        "       return sum\n",
        "    tich = 1\n",
        "    for i in range(n):\n",
        "      tich = tich * (i+1)\n",
        "    n -= 1\n",
        "    return sum + tich + sumN(n)\n",
        "print(f\"Sum is: {sumN(5)}\")"
      ],
      "metadata": {
        "colab": {
          "base_uri": "https://localhost:8080/"
        },
        "id": "OvVigZI6GOEg",
        "outputId": "5cf46b32-f997-4d8b-f487-5be371336763"
      },
      "execution_count": 52,
      "outputs": [
        {
          "output_type": "stream",
          "name": "stdout",
          "text": [
            "Sum is: 153\n"
          ]
        }
      ]
    }
  ]
}